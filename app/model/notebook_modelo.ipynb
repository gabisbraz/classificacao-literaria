{
  "nbformat": 4,
  "nbformat_minor": 0,
  "metadata": {
    "kernelspec": {
      "display_name": "Python 3",
      "language": "python",
      "name": "python3"
    },
    "language_info": {
      "codemirror_mode": {
        "name": "ipython",
        "version": 3
      },
      "file_extension": ".py",
      "mimetype": "text/x-python",
      "name": "python",
      "nbconvert_exporter": "python",
      "pygments_lexer": "ipython3",
      "version": "3.7.4"
    },
    "colab": {
      "provenance": []
    }
  },
  "cells": [
    {
      "cell_type": "markdown",
      "metadata": {
        "id": "40b90843"
      },
      "source": [
        "<img src=\"http://meusite.mackenzie.br/rogerio/mackenzie_logo/UPM.2_horizontal_vermelho.jpg\"  width=300, align=\"right\">\n",
        "<br>\n",
        "<br>\n",
        "<br>\n",
        "<br>\n",
        "<br>\n",
        "\n",
        "# **Template para o Colab do Projeto Semestral**\n",
        "---\n",
        "\n",
        "Atenção, podem ser que nem todas as tarefas sejam executadas no Colab (a aplicação por exemplo, pode estar hospedada no streamlit cloud). Mas a maior parte pode estar aqui ou ao menos indicada e comentada.\n"
      ]
    },
    {
      "cell_type": "markdown",
      "source": [
        "Além disso a entrega deve incluir:\n",
        "\n",
        "1. **Um GitHub público do projeto**\n",
        "2. **Código completo e executável em um notebook Python (este template)**\n",
        "3. **Uma aplicação streamlit para consumo do modelo**\n",
        "4. **Um texto/artigo do projeto**\n",
        "5. **Um vídeo (link YouTube ou outro) de no máximo 3min de apresentação do projeto**\n",
        "\n",
        "Um **`readme.md`** no GitHub público do projeto deve indicar (um índice) cada uma dessas entregas.\n",
        "\n",
        "\n",
        "\n",
        "\n",
        "\n",
        "\n"
      ],
      "metadata": {
        "id": "qR6kcPlTeV_n"
      }
    },
    {
      "cell_type": "code",
      "metadata": {
        "id": "rYx9D4GZA5o9",
        "cellView": "form"
      },
      "source": [
        "#@title **Identificação do Grupo**\n",
        "\n",
        "#@markdown Integrantes do Grupo, nome completo em orgem alfabética (*informe \\<RA\\>,\\<nome\\>*)\n",
        "Aluno1 = '10402554, Gabriella Braz' #@param {type:\"string\"}\n",
        "Aluno2 = '10402264, Giovana Liao' #@param {type:\"string\"}\n",
        "Aluno3 = '10400630, Maria Julia de Pádua' #@param {type:\"string\"}\n"
      ],
      "execution_count": null,
      "outputs": []
    },
    {
      "cell_type": "code",
      "source": [
        "#@title Assinale aqui a sua opção de Projeto\n",
        "Projeto = \"IA Aplicada a Documentos: Uso de Grandes Modelos de Linguagem Abertos\" #@param [\"IA Aplicada a Imagens: Uso de Modelos de Redes Neurais\", \"IA Aplicada a Documentos: Uso de Grandes Modelos de Linguagem Abertos\"]\n",
        "\n",
        "\n"
      ],
      "metadata": {
        "id": "-MbC50IHTmh3",
        "cellView": "form"
      },
      "execution_count": 12,
      "outputs": []
    },
    {
      "cell_type": "markdown",
      "source": [
        "# **Resumo**\n",
        "\n",
        "**1. Objetivo do projeto**\n",
        "\n",
        "O projeto tem como objetivo construir um modelo de aprendizado de máquina capaz de classificar livros em gêneros literários a partir de suas descrições textuais. A classificação automática de gêneros visa auxiliar plataformas literárias, sistemas de recomendação e bibliotecas digitais, tornando a organização e o acesso ao conteúdo mais eficientes.\n",
        "\n",
        "**2. Fontes dos dados e dados originais**\n",
        "\n",
        "A base de dados original foi obtida a partir de um dataset público disponível no Kaggle, contendo cerca de 10 mil registros de livros com informações como título, descrição e lista de gêneros associados. A partir dessa base bruta, foi criada a BASE_MODELO, com os campos renomeados e ajustados para facilitar o processamento. A lista de gêneros, originalmente armazenada como string de listas, foi convertida para listas reais, permitindo a expansão de múltiplos gêneros por livro em diferentes linhas do dataset.\n",
        "\n",
        "**3. Ferramentas/pacotes de IA utilizados**\n",
        "\n",
        "Para o pré-processamento textual, foram utilizados recursos da biblioteca NLTK, como remoção de pontuação, stopwords, lematização e tokenização. A vetorização dos textos foi realizada com TfidfVectorizer do scikit-learn, configurado com n-gramas até 5 palavras e limite de frequências para filtrar ruído textual. O modelo de classificação escolhido foi a Regressão Logística, configurada com class_weight=\"balanced\" para lidar com o desbalanceamento entre gêneros. A base foi dividida estratificadamente em treino e teste, e a performance foi avaliada com acurácia e métricas detalhadas (precision, recall, F1-score).\n",
        "\n",
        "**4. Prévia dos resultados**\n",
        "\n",
        "Após diversas iterações e melhorias no pré-processamento, o modelo atingiu uma acurácia de aproximadamente 65,1% ao classificar livros entre os 10 gêneros mais frequentes. O desempenho variou de acordo com a quantidade de exemplos por classe, com maior precisão em categorias amplamente representadas, como Fiction, Fantasy e Nonfiction. A estratégia de expansão dos gêneros por linha e a escolha cuidadosa dos parâmetros de vetorização contribuíram significativamente para a melhoria da performance geral."
      ],
      "metadata": {
        "id": "yxYbSf6mVM7y"
      }
    },
    {
      "cell_type": "markdown",
      "source": [
        "# **Apresentação dos dados**\n",
        "\n",
        "Inclua link, amostras dos dados."
      ],
      "metadata": {
        "id": "ctroSu6jNABS"
      }
    },
    {
      "cell_type": "code",
      "source": [
        "import pandas as pd\n",
        "import ast\n",
        "\n",
        "# Carregamento da base de dados\n",
        "df = pd.read_excel(\"BASE_MODELO.xlsx\")\n",
        "\n",
        "# Filtrar registros válidos\n",
        "df = df.loc[df[\"lista_de_generos\"] != \"[]\"]\n",
        "df = df.dropna(subset=[\"descricao\"])\n",
        "\n",
        "# Função para converter string de lista em lista real\n",
        "def to_list(gen_str):\n",
        "    try:\n",
        "        return ast.literal_eval(gen_str)\n",
        "    except:\n",
        "        return []\n",
        "\n",
        "# Converter lista de gêneros e explodir\n",
        "df[\"genero_principal\"] = df[\"lista_de_generos\"].apply(to_list)\n",
        "df = df.explode(\"genero_principal\")\n",
        "\n",
        "# Filtrar os 10 gêneros mais comuns\n",
        "top_generos = df[\"genero_principal\"].value_counts().head(10).index\n",
        "df = df[df[\"genero_principal\"].isin(top_generos)]\n",
        "\n",
        "# Remover duplicatas por título de livro\n",
        "df = df.drop_duplicates(\"livro\")\n"
      ],
      "metadata": {
        "id": "3_ya52we1r19"
      },
      "execution_count": 2,
      "outputs": []
    },
    {
      "cell_type": "code",
      "source": [
        "from google.colab import drive\n",
        "drive.mount('/content/drive')"
      ],
      "metadata": {
        "colab": {
          "base_uri": "https://localhost:8080/"
        },
        "id": "qCiyXN8c2QOj",
        "outputId": "e5ca2182-e91a-4fff-b4e6-8ca4b82fc3af"
      },
      "execution_count": 5,
      "outputs": [
        {
          "output_type": "stream",
          "name": "stdout",
          "text": [
            "Mounted at /content/drive\n"
          ]
        }
      ]
    },
    {
      "cell_type": "markdown",
      "source": [
        "# **Preparação e transformação dos dados**\n",
        "\n",
        "A etapa de preparação dos dados foi fundamental para garantir a qualidade do modelo de classificação. Inicialmente, os dados foram importados a partir de um arquivo .xlsx previamente estruturado com base em um dataset original do Kaggle. Este arquivo continha aproximadamente 10 mil registros de livros, com informações como título, descrição e uma lista de gêneros atribuídos a cada obra.\n",
        "\n",
        "Uma das primeiras ações de limpeza foi eliminar entradas que não possuíam descrição textual e aquelas em que a lista de gêneros estava vazia. Em seguida, a coluna que armazenava os gêneros — originalmente no formato de string representando listas — foi convertida para listas reais utilizando ast.literal_eval(). Essa transformação possibilitou o uso do método explode() do pandas, permitindo que cada gênero de um livro fosse tratado como uma instância separada, ou seja, um mesmo livro poderia aparecer mais de uma vez no conjunto de dados, cada linha associada a um de seus gêneros. Isso garantiu maior granularidade para a tarefa de classificação.\n",
        "\n",
        "Após essa expansão, os textos das descrições passaram por um rigoroso pré-processamento textual. Essa etapa incluiu a remoção de números, pontuações e palavras irrelevantes (stopwords), além da normalização das palavras por meio da lematização — técnica que reduz palavras às suas formas base. Essa transformação foi realizada utilizando bibliotecas da NLTK, como WordNetLemmatizer e stopwords.\n",
        "\n",
        "Com os textos processados, foi realizada a vetorização utilizando o método TF-IDF (Term Frequency-Inverse Document Frequency), que transforma os textos em representações numéricas baseadas na frequência e relevância dos termos. O vetor foi configurado para extrair n-gramas de 1 a 5 palavras, com um limite de palavras muito comuns e muito raras para evitar ruído e overfitting.\n",
        "\n",
        "Por fim, foram selecionados os 10 gêneros mais frequentes no dataset, e o dataframe foi filtrado para manter apenas os registros pertencentes a essas categorias. Essa decisão teve como objetivo equilibrar o modelo e melhorar a capacidade preditiva, evitando o viés causado por classes pouco representadas. Também foi garantido que apenas um registro por livro fosse mantido para evitar duplicidade de informações na base final utilizada para treino e teste.\n"
      ],
      "metadata": {
        "id": "GDzwn_5AMZ52"
      }
    },
    {
      "cell_type": "code",
      "source": [
        "import nltk\n",
        "import string\n",
        "import re\n",
        "from nltk.corpus import stopwords\n",
        "from nltk.tokenize import word_tokenize\n",
        "from nltk.stem import WordNetLemmatizer\n",
        "\n",
        "# Downloads NLTK\n",
        "nltk.download(\"punkt_tab\")\n",
        "nltk.download(\"stopwords\")\n",
        "nltk.download(\"wordnet\")\n",
        "\n",
        "# Inicializações\n",
        "stop_words = set(stopwords.words(\"english\"))\n",
        "lemmatizer = WordNetLemmatizer()\n",
        "\n",
        "# Função de pré-processamento do texto\n",
        "def preprocess_text(text):\n",
        "    text = re.sub(r\"\\d+\", \"\", str(text))\n",
        "    text = text.translate(str.maketrans(\"\", \"\", string.punctuation))\n",
        "    tokens = word_tokenize(text.lower())\n",
        "    tokens = [\n",
        "        lemmatizer.lemmatize(word)\n",
        "        for word in tokens\n",
        "        if word not in stop_words and len(word) > 2\n",
        "    ]\n",
        "    return \" \".join(tokens)\n",
        "\n",
        "# Aplicar pré-processamento\n",
        "df[\"descricao_processada\"] = df[\"descricao\"].apply(preprocess_text)\n"
      ],
      "metadata": {
        "colab": {
          "base_uri": "https://localhost:8080/"
        },
        "id": "hq8LQBXz2qq1",
        "outputId": "7505d935-f58c-48e5-995d-e2bed105fba4"
      },
      "execution_count": 7,
      "outputs": [
        {
          "output_type": "stream",
          "name": "stderr",
          "text": [
            "[nltk_data] Downloading package punkt_tab to /root/nltk_data...\n",
            "[nltk_data]   Unzipping tokenizers/punkt_tab.zip.\n",
            "[nltk_data] Downloading package stopwords to /root/nltk_data...\n",
            "[nltk_data]   Package stopwords is already up-to-date!\n",
            "[nltk_data] Downloading package wordnet to /root/nltk_data...\n",
            "[nltk_data]   Package wordnet is already up-to-date!\n"
          ]
        }
      ]
    },
    {
      "cell_type": "markdown",
      "source": [
        "# **Fine Tuning do modelo**\n",
        "Após a construção do pipeline inicial de classificação de gêneros literários com base na descrição dos livros, foi conduzido um processo de fine tuning do modelo com o objetivo de maximizar a acurácia e melhorar o equilíbrio entre precisão e recall para as principais classes. A estratégia de ajuste fino concentrou-se em três frentes principais: seleção de atributos, balanceamento das classes e otimização dos hiperparâmetros do algoritmo.\n",
        "\n",
        "A primeira etapa consistiu em aprimorar o processo de vetorização textual com o uso do TfidfVectorizer. Foram testadas diferentes configurações de n-gramas (de unigramas até pentagramas) e valores de corte para min_df e max_df, que controlam a inclusão de termos com baixa ou alta frequência no vocabulário. Esse ajuste teve como objetivo encontrar um equilíbrio entre a expressividade dos textos e o ruído causado por termos irrelevantes ou extremamente específicos.\n",
        "\n",
        "Em seguida, foi observada uma grande variação na distribuição das classes, ou seja, alguns gêneros estavam muito mais representados do que outros. Para lidar com esse desbalanceamento, foi utilizado o parâmetro class_weight='balanced' no algoritmo de regressão logística, o qual ajusta automaticamente os pesos das classes com base na frequência relativa de cada uma. Essa técnica ajudou o modelo a tratar com mais equidade os gêneros menos frequentes no conjunto de dados.\n",
        "\n",
        "Por fim, foram realizados testes com diferentes hiperparâmetros do modelo LogisticRegression, como o número máximo de iterações (max_iter) e o parâmetro de regularização C, responsável por controlar o overfitting. O valor de C=1.0 apresentou um bom equilíbrio entre complexidade e generalização, e max_iter foi aumentado para 1000 para garantir a convergência do algoritmo.\n",
        "\n",
        "O resultado desse processo de fine tuning foi um aumento consistente na acurácia do modelo, atingindo cerca de 65,1%, com melhora significativa nos scores de F1 em várias classes. Apesar de ainda haver desafios no desempenho de gêneros com baixa representatividade, o modelo demonstrou maior robustez e capacidade preditiva após os ajustes finos aplicados."
      ],
      "metadata": {
        "id": "mnJHmydNNfl0"
      }
    },
    {
      "cell_type": "code",
      "source": [
        "from sklearn.feature_extraction.text import TfidfVectorizer\n",
        "from sklearn.model_selection import train_test_split\n",
        "\n",
        "# Vetorização TF-IDF\n",
        "vectorizer = TfidfVectorizer(\n",
        "    max_features=10000,\n",
        "    ngram_range=(1, 5),\n",
        "    min_df=3,\n",
        "    max_df=0.9\n",
        ")\n",
        "\n",
        "X = vectorizer.fit_transform(df[\"descricao_processada\"])\n",
        "y = df[\"genero_principal\"]\n",
        "\n",
        "# Divisão treino/teste\n",
        "X_train, X_test, y_train, y_test = train_test_split(\n",
        "    X, y, test_size=0.2, random_state=42, stratify=y\n",
        ")\n"
      ],
      "metadata": {
        "id": "wRgfbZVo282U"
      },
      "execution_count": 8,
      "outputs": []
    },
    {
      "cell_type": "markdown",
      "source": [
        "# **Avaliação do modelo**\n",
        "\n",
        "A avaliação do modelo de classificação foi conduzida utilizando um conjunto de teste separado (20% dos dados), garantindo uma análise imparcial da performance preditiva da solução. As métricas utilizadas foram acurácia, precisão, recall e F1-score, fornecendo uma visão abrangente do desempenho, especialmente considerando o desequilíbrio entre os gêneros literários.\n",
        "\n",
        "O modelo final, baseado em regressão logística com vetorização TF-IDF, atingiu uma acurácia global de aproximadamente 65,1%. Embora a acurácia seja uma métrica relevante, ela pode ser enganosa em cenários com classes desbalanceadas, como é o caso de alguns gêneros menos frequentes. Por isso, foi fundamental observar o comportamento do modelo em métricas como o F1-score, que combina precisão e recall, permitindo avaliar o equilíbrio entre falsas classificações positivas e negativas.\n",
        "\n",
        "A análise do relatório de classificação revelou que os gêneros mais bem representados, como Fiction, Fantasy e Nonfiction, obtiveram F1-scores mais altos, indicando que o modelo conseguiu aprender padrões consistentes nessas categorias. Por outro lado, gêneros com menos amostras, como Contemporary ou Audiobook, apresentaram desempenho inferior, com métricas próximas de zero, refletindo a dificuldade do modelo em generalizar quando há pouca informação disponível para aprendizado.\n",
        "\n",
        "Além disso, o uso de class_weight='balanced' na regressão logística contribuiu para mitigar parcialmente os efeitos do desbalanceamento, permitindo que o modelo prestasse mais atenção às classes menos frequentes. No entanto, o fato de algumas classes ainda não terem nenhuma amostra corretamente prevista indica a necessidade de estratégias adicionais, como aumento de dados (data augmentation), reamostragem (oversampling/undersampling), ou mudança para modelos mais sofisticados como redes neurais ou transformers.\n",
        "\n",
        "Em suma, o modelo apresentou desempenho satisfatório dado o cenário e as limitações dos dados. A acurácia de 65,1% e os F1-scores médios por classe indicam que a abordagem tem potencial prático, especialmente para os gêneros mais frequentes, ao mesmo tempo em que destaca oportunidades de melhoria para uma cobertura mais equilibrada de todos os gêneros literários."
      ],
      "metadata": {
        "id": "p1Evo4PmNhBY"
      }
    },
    {
      "cell_type": "code",
      "source": [
        "from sklearn.linear_model import LogisticRegression\n",
        "from sklearn.metrics import classification_report, accuracy_score\n",
        "\n",
        "# Treinamento do modelo\n",
        "clf = LogisticRegression(max_iter=1000, class_weight=\"balanced\", C=1.0)\n",
        "clf.fit(X_train, y_train)\n",
        "\n",
        "# Avaliação\n",
        "y_pred = clf.predict(X_test)\n",
        "acc = accuracy_score(y_test, y_pred)\n",
        "print(f\"\\n✅ Acurácia do modelo: {acc:.4f}\")\n",
        "print(\"\\n📊 Relatório de Classificação:\")\n",
        "print(classification_report(y_test, y_pred))\n"
      ],
      "metadata": {
        "colab": {
          "base_uri": "https://localhost:8080/"
        },
        "id": "4u-pfAWm3BNp",
        "outputId": "d62829a4-34bf-48bf-a99d-76218fb8fe7c"
      },
      "execution_count": 9,
      "outputs": [
        {
          "output_type": "stream",
          "name": "stdout",
          "text": [
            "\n",
            "✅ Acurácia do modelo: 0.6511\n",
            "\n",
            "📊 Relatório de Classificação:\n",
            "                    precision    recall  f1-score   support\n",
            "\n",
            "         Audiobook       0.00      0.00      0.00         1\n",
            "          Classics       0.50      0.67      0.57       146\n",
            "      Contemporary       0.11      0.05      0.07        19\n",
            "           Fantasy       0.71      0.75      0.73       214\n",
            "           Fiction       0.73      0.50      0.59       520\n",
            "Historical Fiction       0.43      0.63      0.51        94\n",
            "           Mystery       0.58      0.79      0.67        96\n",
            "        Nonfiction       0.84      0.81      0.82       447\n",
            "           Romance       0.46      0.60      0.52        89\n",
            "       Young Adult       0.42      0.57      0.49        88\n",
            "\n",
            "          accuracy                           0.65      1714\n",
            "         macro avg       0.48      0.54      0.50      1714\n",
            "      weighted avg       0.67      0.65      0.65      1714\n",
            "\n"
          ]
        },
        {
          "output_type": "stream",
          "name": "stderr",
          "text": [
            "/usr/local/lib/python3.11/dist-packages/sklearn/metrics/_classification.py:1565: UndefinedMetricWarning: Precision is ill-defined and being set to 0.0 in labels with no predicted samples. Use `zero_division` parameter to control this behavior.\n",
            "  _warn_prf(average, modifier, f\"{metric.capitalize()} is\", len(result))\n",
            "/usr/local/lib/python3.11/dist-packages/sklearn/metrics/_classification.py:1565: UndefinedMetricWarning: Precision is ill-defined and being set to 0.0 in labels with no predicted samples. Use `zero_division` parameter to control this behavior.\n",
            "  _warn_prf(average, modifier, f\"{metric.capitalize()} is\", len(result))\n",
            "/usr/local/lib/python3.11/dist-packages/sklearn/metrics/_classification.py:1565: UndefinedMetricWarning: Precision is ill-defined and being set to 0.0 in labels with no predicted samples. Use `zero_division` parameter to control this behavior.\n",
            "  _warn_prf(average, modifier, f\"{metric.capitalize()} is\", len(result))\n"
          ]
        }
      ]
    },
    {
      "cell_type": "markdown",
      "source": [
        "# **Consumo do modelo**\n",
        "\n",
        "Após o treinamento e validação, o modelo foi integrado a uma função de inferência chamada classificar_livro, que permite prever o gênero literário predominante de um livro com base apenas em sua descrição textual. Esse consumo do modelo foi estruturado de forma simples, eficiente e acessível, tornando possível sua incorporação em aplicações reais, como sistemas de recomendação, bibliotecas digitais ou plataformas de e-commerce de livros.\n",
        "\n",
        "O fluxo de uso segue três etapas principais: primeiro, o texto da descrição do livro é submetido ao mesmo processo de pré-processamento aplicado durante o treinamento (remoção de números, pontuações, stopwords e lematização). Em seguida, o texto limpo é vetorizado utilizando o modelo TF-IDF previamente treinado. Por fim, a representação vetorial é passada ao classificador de regressão logística, que retorna a previsão de gênero.\n",
        "\n",
        "Esse modelo pode é consumido diretamente via interface Streamlit. Nessa interface, o usuário pode escolher um livro e visualizar instantaneamente a classificação do gênero sugerida pelo modelo. Esse consumo em tempo real amplia significativamente as possibilidades de aplicação da solução, tornando-a adequada tanto para fins educacionais quanto comerciais.\n",
        "\n",
        "A leveza do pipeline — com TF-IDF e regressão logística — também garante rápida resposta e baixa demanda computacional, facilitando o uso do modelo mesmo em ambientes com recursos limitados. Com isso, o modelo se torna não apenas funcional e preciso, mas também acessível para diferentes tipos de usuários e plataformas."
      ],
      "metadata": {
        "id": "ViQfwNxkNj0C"
      }
    },
    {
      "cell_type": "code",
      "source": [
        "# Função para classificação de nova descrição\n",
        "def classificar_livro(descricao):\n",
        "    desc_proc = preprocess_text(descricao)\n",
        "    desc_vect = vectorizer.transform([desc_proc])\n",
        "    pred = clf.predict(desc_vect)[0]\n",
        "    return pred\n"
      ],
      "metadata": {
        "id": "q_5Z7T8V3JKY"
      },
      "execution_count": 11,
      "outputs": []
    },
    {
      "cell_type": "markdown",
      "source": [
        "# **Referências**\n",
        "\n",
        "WOLF, Thomas et al. Transformers: State-of-the-art Natural Language Processing. In: Proceedings of the 2020 Conference on Empirical Methods in Natural Language Processing: System Demonstrations. Online: Association for Computational Linguistics, 2020. Disponível em: https://arxiv.org/abs/1910.03771. Acesso em: 09 abr. 2025."
      ],
      "metadata": {
        "id": "7LtXrRFr4hg3"
      }
    },
    {
      "cell_type": "markdown",
      "metadata": {
        "id": "8crUBC3IQ3U_"
      },
      "source": [
        "---"
      ]
    },
    {
      "cell_type": "code",
      "metadata": {
        "id": "BluFtfHuCGzm",
        "cellView": "form"
      },
      "source": [
        "#@title **Avaliação**\n",
        "GitHub = 10 #@param {type:\"slider\", min:0, max:10, step:1}\n",
        "\n",
        "Implementacao_Model_Code = 7 #@param {type:\"slider\", min:0, max:10, step:1}\n",
        "\n",
        "Aplicacao_Streamlit = 9 #@param {type:\"slider\", min:0, max:10, step:1}\n",
        "\n",
        "Texto_Artigo  = 6 #@param {type:\"slider\", min:0, max:10, step:1}\n",
        "\n",
        "Video = 7 #@param {type:\"slider\", min:0, max:10, step:1}\n",
        "\n",
        "Geral = 7 #@param {type:\"slider\", min:0, max:10, step:1}\n",
        "\n",
        "\n",
        "\n",
        "\n",
        "\n",
        "\n"
      ],
      "execution_count": null,
      "outputs": []
    },
    {
      "cell_type": "code",
      "metadata": {
        "colab": {
          "base_uri": "https://localhost:8080/",
          "height": 160
        },
        "id": "2Gqw7hUZHyle",
        "cellView": "form",
        "outputId": "cf56d67f-e7bc-42f0-a81d-f1f808967e93"
      },
      "source": [
        "#@title **Nota Final**\n",
        "\n",
        "nota = 2*GitHub + 4*Implementacao_Model_Code + 2*Aplicacao_Streamlit + 1*Texto_Artigo + 1*Video\n",
        "\n",
        "nota = nota / 10\n",
        "\n",
        "print(f'Nota final do trabalho {nota :.1f}')\n",
        "\n",
        "import numpy as np\n",
        "import pandas as pd\n",
        "\n",
        "alunos = pd.DataFrame()\n",
        "\n",
        "lista_tia = []\n",
        "lista_nome = []\n",
        "\n",
        "for i in range(1,6):\n",
        "  exec(\"if Aluno\" + str(i) + \" !='None':  lista = Aluno\" + str(i) + \".split(','); lista_tia.append(lista[0]); lista_nome.append(lista[1].upper())\")\n",
        "\n",
        "alunos['tia'] = lista_tia\n",
        "alunos['nome'] = lista_nome\n",
        "alunos['nota'] = np.round(nota,1)\n",
        "print()\n",
        "display(alunos)"
      ],
      "execution_count": null,
      "outputs": [
        {
          "output_type": "stream",
          "name": "stdout",
          "text": [
            "Nota final do trabalho 7.9\n",
            "\n"
          ]
        },
        {
          "output_type": "display_data",
          "data": {
            "text/plain": [
              "       tia              nome  nota\n",
              "0  1115665    ADRIANA FUJITA   7.9\n",
              "1  1115677   DANIEL HENRIQUE   7.9"
            ],
            "text/html": [
              "\n",
              "  <div id=\"df-b0360d6d-a298-4195-9914-febf9bafcd63\" class=\"colab-df-container\">\n",
              "    <div>\n",
              "<style scoped>\n",
              "    .dataframe tbody tr th:only-of-type {\n",
              "        vertical-align: middle;\n",
              "    }\n",
              "\n",
              "    .dataframe tbody tr th {\n",
              "        vertical-align: top;\n",
              "    }\n",
              "\n",
              "    .dataframe thead th {\n",
              "        text-align: right;\n",
              "    }\n",
              "</style>\n",
              "<table border=\"1\" class=\"dataframe\">\n",
              "  <thead>\n",
              "    <tr style=\"text-align: right;\">\n",
              "      <th></th>\n",
              "      <th>tia</th>\n",
              "      <th>nome</th>\n",
              "      <th>nota</th>\n",
              "    </tr>\n",
              "  </thead>\n",
              "  <tbody>\n",
              "    <tr>\n",
              "      <th>0</th>\n",
              "      <td>1115665</td>\n",
              "      <td>ADRIANA FUJITA</td>\n",
              "      <td>7.9</td>\n",
              "    </tr>\n",
              "    <tr>\n",
              "      <th>1</th>\n",
              "      <td>1115677</td>\n",
              "      <td>DANIEL HENRIQUE</td>\n",
              "      <td>7.9</td>\n",
              "    </tr>\n",
              "  </tbody>\n",
              "</table>\n",
              "</div>\n",
              "    <div class=\"colab-df-buttons\">\n",
              "\n",
              "  <div class=\"colab-df-container\">\n",
              "    <button class=\"colab-df-convert\" onclick=\"convertToInteractive('df-b0360d6d-a298-4195-9914-febf9bafcd63')\"\n",
              "            title=\"Convert this dataframe to an interactive table.\"\n",
              "            style=\"display:none;\">\n",
              "\n",
              "  <svg xmlns=\"http://www.w3.org/2000/svg\" height=\"24px\" viewBox=\"0 -960 960 960\">\n",
              "    <path d=\"M120-120v-720h720v720H120Zm60-500h600v-160H180v160Zm220 220h160v-160H400v160Zm0 220h160v-160H400v160ZM180-400h160v-160H180v160Zm440 0h160v-160H620v160ZM180-180h160v-160H180v160Zm440 0h160v-160H620v160Z\"/>\n",
              "  </svg>\n",
              "    </button>\n",
              "\n",
              "  <style>\n",
              "    .colab-df-container {\n",
              "      display:flex;\n",
              "      gap: 12px;\n",
              "    }\n",
              "\n",
              "    .colab-df-convert {\n",
              "      background-color: #E8F0FE;\n",
              "      border: none;\n",
              "      border-radius: 50%;\n",
              "      cursor: pointer;\n",
              "      display: none;\n",
              "      fill: #1967D2;\n",
              "      height: 32px;\n",
              "      padding: 0 0 0 0;\n",
              "      width: 32px;\n",
              "    }\n",
              "\n",
              "    .colab-df-convert:hover {\n",
              "      background-color: #E2EBFA;\n",
              "      box-shadow: 0px 1px 2px rgba(60, 64, 67, 0.3), 0px 1px 3px 1px rgba(60, 64, 67, 0.15);\n",
              "      fill: #174EA6;\n",
              "    }\n",
              "\n",
              "    .colab-df-buttons div {\n",
              "      margin-bottom: 4px;\n",
              "    }\n",
              "\n",
              "    [theme=dark] .colab-df-convert {\n",
              "      background-color: #3B4455;\n",
              "      fill: #D2E3FC;\n",
              "    }\n",
              "\n",
              "    [theme=dark] .colab-df-convert:hover {\n",
              "      background-color: #434B5C;\n",
              "      box-shadow: 0px 1px 3px 1px rgba(0, 0, 0, 0.15);\n",
              "      filter: drop-shadow(0px 1px 2px rgba(0, 0, 0, 0.3));\n",
              "      fill: #FFFFFF;\n",
              "    }\n",
              "  </style>\n",
              "\n",
              "    <script>\n",
              "      const buttonEl =\n",
              "        document.querySelector('#df-b0360d6d-a298-4195-9914-febf9bafcd63 button.colab-df-convert');\n",
              "      buttonEl.style.display =\n",
              "        google.colab.kernel.accessAllowed ? 'block' : 'none';\n",
              "\n",
              "      async function convertToInteractive(key) {\n",
              "        const element = document.querySelector('#df-b0360d6d-a298-4195-9914-febf9bafcd63');\n",
              "        const dataTable =\n",
              "          await google.colab.kernel.invokeFunction('convertToInteractive',\n",
              "                                                    [key], {});\n",
              "        if (!dataTable) return;\n",
              "\n",
              "        const docLinkHtml = 'Like what you see? Visit the ' +\n",
              "          '<a target=\"_blank\" href=https://colab.research.google.com/notebooks/data_table.ipynb>data table notebook</a>'\n",
              "          + ' to learn more about interactive tables.';\n",
              "        element.innerHTML = '';\n",
              "        dataTable['output_type'] = 'display_data';\n",
              "        await google.colab.output.renderOutput(dataTable, element);\n",
              "        const docLink = document.createElement('div');\n",
              "        docLink.innerHTML = docLinkHtml;\n",
              "        element.appendChild(docLink);\n",
              "      }\n",
              "    </script>\n",
              "  </div>\n",
              "\n",
              "\n",
              "    <div id=\"df-120aa0b0-48d8-4778-aca7-bace2443a5e8\">\n",
              "      <button class=\"colab-df-quickchart\" onclick=\"quickchart('df-120aa0b0-48d8-4778-aca7-bace2443a5e8')\"\n",
              "                title=\"Suggest charts\"\n",
              "                style=\"display:none;\">\n",
              "\n",
              "<svg xmlns=\"http://www.w3.org/2000/svg\" height=\"24px\"viewBox=\"0 0 24 24\"\n",
              "     width=\"24px\">\n",
              "    <g>\n",
              "        <path d=\"M19 3H5c-1.1 0-2 .9-2 2v14c0 1.1.9 2 2 2h14c1.1 0 2-.9 2-2V5c0-1.1-.9-2-2-2zM9 17H7v-7h2v7zm4 0h-2V7h2v10zm4 0h-2v-4h2v4z\"/>\n",
              "    </g>\n",
              "</svg>\n",
              "      </button>\n",
              "\n",
              "<style>\n",
              "  .colab-df-quickchart {\n",
              "      --bg-color: #E8F0FE;\n",
              "      --fill-color: #1967D2;\n",
              "      --hover-bg-color: #E2EBFA;\n",
              "      --hover-fill-color: #174EA6;\n",
              "      --disabled-fill-color: #AAA;\n",
              "      --disabled-bg-color: #DDD;\n",
              "  }\n",
              "\n",
              "  [theme=dark] .colab-df-quickchart {\n",
              "      --bg-color: #3B4455;\n",
              "      --fill-color: #D2E3FC;\n",
              "      --hover-bg-color: #434B5C;\n",
              "      --hover-fill-color: #FFFFFF;\n",
              "      --disabled-bg-color: #3B4455;\n",
              "      --disabled-fill-color: #666;\n",
              "  }\n",
              "\n",
              "  .colab-df-quickchart {\n",
              "    background-color: var(--bg-color);\n",
              "    border: none;\n",
              "    border-radius: 50%;\n",
              "    cursor: pointer;\n",
              "    display: none;\n",
              "    fill: var(--fill-color);\n",
              "    height: 32px;\n",
              "    padding: 0;\n",
              "    width: 32px;\n",
              "  }\n",
              "\n",
              "  .colab-df-quickchart:hover {\n",
              "    background-color: var(--hover-bg-color);\n",
              "    box-shadow: 0 1px 2px rgba(60, 64, 67, 0.3), 0 1px 3px 1px rgba(60, 64, 67, 0.15);\n",
              "    fill: var(--button-hover-fill-color);\n",
              "  }\n",
              "\n",
              "  .colab-df-quickchart-complete:disabled,\n",
              "  .colab-df-quickchart-complete:disabled:hover {\n",
              "    background-color: var(--disabled-bg-color);\n",
              "    fill: var(--disabled-fill-color);\n",
              "    box-shadow: none;\n",
              "  }\n",
              "\n",
              "  .colab-df-spinner {\n",
              "    border: 2px solid var(--fill-color);\n",
              "    border-color: transparent;\n",
              "    border-bottom-color: var(--fill-color);\n",
              "    animation:\n",
              "      spin 1s steps(1) infinite;\n",
              "  }\n",
              "\n",
              "  @keyframes spin {\n",
              "    0% {\n",
              "      border-color: transparent;\n",
              "      border-bottom-color: var(--fill-color);\n",
              "      border-left-color: var(--fill-color);\n",
              "    }\n",
              "    20% {\n",
              "      border-color: transparent;\n",
              "      border-left-color: var(--fill-color);\n",
              "      border-top-color: var(--fill-color);\n",
              "    }\n",
              "    30% {\n",
              "      border-color: transparent;\n",
              "      border-left-color: var(--fill-color);\n",
              "      border-top-color: var(--fill-color);\n",
              "      border-right-color: var(--fill-color);\n",
              "    }\n",
              "    40% {\n",
              "      border-color: transparent;\n",
              "      border-right-color: var(--fill-color);\n",
              "      border-top-color: var(--fill-color);\n",
              "    }\n",
              "    60% {\n",
              "      border-color: transparent;\n",
              "      border-right-color: var(--fill-color);\n",
              "    }\n",
              "    80% {\n",
              "      border-color: transparent;\n",
              "      border-right-color: var(--fill-color);\n",
              "      border-bottom-color: var(--fill-color);\n",
              "    }\n",
              "    90% {\n",
              "      border-color: transparent;\n",
              "      border-bottom-color: var(--fill-color);\n",
              "    }\n",
              "  }\n",
              "</style>\n",
              "\n",
              "      <script>\n",
              "        async function quickchart(key) {\n",
              "          const quickchartButtonEl =\n",
              "            document.querySelector('#' + key + ' button');\n",
              "          quickchartButtonEl.disabled = true;  // To prevent multiple clicks.\n",
              "          quickchartButtonEl.classList.add('colab-df-spinner');\n",
              "          try {\n",
              "            const charts = await google.colab.kernel.invokeFunction(\n",
              "                'suggestCharts', [key], {});\n",
              "          } catch (error) {\n",
              "            console.error('Error during call to suggestCharts:', error);\n",
              "          }\n",
              "          quickchartButtonEl.classList.remove('colab-df-spinner');\n",
              "          quickchartButtonEl.classList.add('colab-df-quickchart-complete');\n",
              "        }\n",
              "        (() => {\n",
              "          let quickchartButtonEl =\n",
              "            document.querySelector('#df-120aa0b0-48d8-4778-aca7-bace2443a5e8 button');\n",
              "          quickchartButtonEl.style.display =\n",
              "            google.colab.kernel.accessAllowed ? 'block' : 'none';\n",
              "        })();\n",
              "      </script>\n",
              "    </div>\n",
              "\n",
              "  <div id=\"id_c5110ba6-c42d-43ec-931e-d08b9033ac7e\">\n",
              "    <style>\n",
              "      .colab-df-generate {\n",
              "        background-color: #E8F0FE;\n",
              "        border: none;\n",
              "        border-radius: 50%;\n",
              "        cursor: pointer;\n",
              "        display: none;\n",
              "        fill: #1967D2;\n",
              "        height: 32px;\n",
              "        padding: 0 0 0 0;\n",
              "        width: 32px;\n",
              "      }\n",
              "\n",
              "      .colab-df-generate:hover {\n",
              "        background-color: #E2EBFA;\n",
              "        box-shadow: 0px 1px 2px rgba(60, 64, 67, 0.3), 0px 1px 3px 1px rgba(60, 64, 67, 0.15);\n",
              "        fill: #174EA6;\n",
              "      }\n",
              "\n",
              "      [theme=dark] .colab-df-generate {\n",
              "        background-color: #3B4455;\n",
              "        fill: #D2E3FC;\n",
              "      }\n",
              "\n",
              "      [theme=dark] .colab-df-generate:hover {\n",
              "        background-color: #434B5C;\n",
              "        box-shadow: 0px 1px 3px 1px rgba(0, 0, 0, 0.15);\n",
              "        filter: drop-shadow(0px 1px 2px rgba(0, 0, 0, 0.3));\n",
              "        fill: #FFFFFF;\n",
              "      }\n",
              "    </style>\n",
              "    <button class=\"colab-df-generate\" onclick=\"generateWithVariable('alunos')\"\n",
              "            title=\"Generate code using this dataframe.\"\n",
              "            style=\"display:none;\">\n",
              "\n",
              "  <svg xmlns=\"http://www.w3.org/2000/svg\" height=\"24px\"viewBox=\"0 0 24 24\"\n",
              "       width=\"24px\">\n",
              "    <path d=\"M7,19H8.4L18.45,9,17,7.55,7,17.6ZM5,21V16.75L18.45,3.32a2,2,0,0,1,2.83,0l1.4,1.43a1.91,1.91,0,0,1,.58,1.4,1.91,1.91,0,0,1-.58,1.4L9.25,21ZM18.45,9,17,7.55Zm-12,3A5.31,5.31,0,0,0,4.9,8.1,5.31,5.31,0,0,0,1,6.5,5.31,5.31,0,0,0,4.9,4.9,5.31,5.31,0,0,0,6.5,1,5.31,5.31,0,0,0,8.1,4.9,5.31,5.31,0,0,0,12,6.5,5.46,5.46,0,0,0,6.5,12Z\"/>\n",
              "  </svg>\n",
              "    </button>\n",
              "    <script>\n",
              "      (() => {\n",
              "      const buttonEl =\n",
              "        document.querySelector('#id_c5110ba6-c42d-43ec-931e-d08b9033ac7e button.colab-df-generate');\n",
              "      buttonEl.style.display =\n",
              "        google.colab.kernel.accessAllowed ? 'block' : 'none';\n",
              "\n",
              "      buttonEl.onclick = () => {\n",
              "        google.colab.notebook.generateWithVariable('alunos');\n",
              "      }\n",
              "      })();\n",
              "    </script>\n",
              "  </div>\n",
              "\n",
              "    </div>\n",
              "  </div>\n"
            ],
            "application/vnd.google.colaboratory.intrinsic+json": {
              "type": "dataframe",
              "variable_name": "alunos",
              "summary": "{\n  \"name\": \"alunos\",\n  \"rows\": 2,\n  \"fields\": [\n    {\n      \"column\": \"tia\",\n      \"properties\": {\n        \"dtype\": \"string\",\n        \"num_unique_values\": 2,\n        \"samples\": [\n          \"1115677\",\n          \"1115665\"\n        ],\n        \"semantic_type\": \"\",\n        \"description\": \"\"\n      }\n    },\n    {\n      \"column\": \"nome\",\n      \"properties\": {\n        \"dtype\": \"string\",\n        \"num_unique_values\": 2,\n        \"samples\": [\n          \" DANIEL HENRIQUE\",\n          \" ADRIANA FUJITA\"\n        ],\n        \"semantic_type\": \"\",\n        \"description\": \"\"\n      }\n    },\n    {\n      \"column\": \"nota\",\n      \"properties\": {\n        \"dtype\": \"number\",\n        \"std\": 0.0,\n        \"min\": 7.9,\n        \"max\": 7.9,\n        \"num_unique_values\": 1,\n        \"samples\": [\n          7.9\n        ],\n        \"semantic_type\": \"\",\n        \"description\": \"\"\n      }\n    }\n  ]\n}"
            }
          },
          "metadata": {}
        }
      ]
    }
  ]
}